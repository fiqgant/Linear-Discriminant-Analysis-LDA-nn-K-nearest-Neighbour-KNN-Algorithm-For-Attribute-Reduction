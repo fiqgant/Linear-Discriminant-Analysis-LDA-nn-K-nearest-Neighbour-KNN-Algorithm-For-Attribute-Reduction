{
 "cells": [
  {
   "cell_type": "code",
   "execution_count": 26,
   "metadata": {},
   "outputs": [],
   "source": [
    "import numpy as np\n",
    "import pandas as pd\n",
    "import matplotlib.pyplot as plt\n",
    "import lux\n",
    "import seaborn as sn\n",
    "from sklearn.model_selection import train_test_split\n",
    "from sklearn.preprocessing import StandardScaler\n",
    "from sklearn.neighbors import KNeighborsClassifier\n",
    "from sklearn.metrics import confusion_matrix\n",
    "from sklearn.metrics import accuracy_score\n",
    "from sklearn.metrics import plot_confusion_matrix\n",
    "%matplotlib inline\n",
    "import warnings\n",
    "warnings.filterwarnings('ignore')"
   ]
  },
  {
   "cell_type": "code",
   "execution_count": 27,
   "metadata": {
    "scrolled": true
   },
   "outputs": [
    {
     "data": {
      "application/vnd.jupyter.widget-view+json": {
       "model_id": "d2f605d42b50422f97a408157a9b9cc9",
       "version_major": 2,
       "version_minor": 0
      },
      "text/plain": [
       "Button(description='Toggle Pandas/Lux', layout=Layout(top='5px', width='140px'), style=ButtonStyle())"
      ]
     },
     "metadata": {},
     "output_type": "display_data"
    },
    {
     "data": {
      "application/vnd.jupyter.widget-view+json": {
       "model_id": "69fd49ad04c24694a99d2a51c845c53c",
       "version_major": 2,
       "version_minor": 0
      },
      "text/plain": [
       "Output()"
      ]
     },
     "metadata": {},
     "output_type": "display_data"
    }
   ],
   "source": [
    "dataset = pd.read_csv('Lymp_after_LDA3D.csv')\n",
    "dataset"
   ]
  },
  {
   "cell_type": "code",
   "execution_count": 28,
   "metadata": {},
   "outputs": [
    {
     "name": "stdout",
     "output_type": "stream",
     "text": [
      "LDA1     0\n",
      "LDA2     0\n",
      "LDA3     0\n",
      "class    0\n",
      "dtype: int64\n"
     ]
    }
   ],
   "source": [
    "dataset.isnull().sum()\n",
    "print(dataset.isnull().sum())"
   ]
  },
  {
   "cell_type": "code",
   "execution_count": 29,
   "metadata": {},
   "outputs": [
    {
     "name": "stdout",
     "output_type": "stream",
     "text": [
      "LDA1\n",
      "LDA2\n",
      "LDA3\n",
      "class\n"
     ]
    }
   ],
   "source": [
    "# iterating the columns \n",
    "for col in dataset.columns: \n",
    "    print(col)"
   ]
  },
  {
   "cell_type": "code",
   "execution_count": 30,
   "metadata": {},
   "outputs": [
    {
     "name": "stdout",
     "output_type": "stream",
     "text": [
      "X shape: (148, 3)\n",
      "y shape: (148, 1)\n"
     ]
    }
   ],
   "source": [
    "X = dataset.iloc[:, 0:3].values\n",
    "x = dataset.iloc[:, 0:3]\n",
    "y = dataset.iloc[:, 3].values\n",
    "y_name = dataset.iloc[:, 3:4]\n",
    "print(\"X shape:\",X.shape)\n",
    "print(\"y shape:\",y_name.shape)"
   ]
  },
  {
   "cell_type": "code",
   "execution_count": 31,
   "metadata": {},
   "outputs": [
    {
     "name": "stdout",
     "output_type": "stream",
     "text": [
      "Attributes:\n",
      "\n",
      "LDA1\n",
      "LDA2\n",
      "LDA3\n",
      "\n",
      "\n",
      "Class:\n",
      "class\n"
     ]
    }
   ],
   "source": [
    "# iterating the columns \n",
    "print(\"Attributes:\\n\")\n",
    "for col in x.columns: \n",
    "    print(col)\n",
    "\n",
    "print(\"\\n\")\n",
    "print(\"Class:\")\n",
    "for col in y_name.columns: \n",
    "    print(col)"
   ]
  },
  {
   "cell_type": "code",
   "execution_count": 32,
   "metadata": {},
   "outputs": [
    {
     "data": {
      "text/plain": [
       "<bound method DataFrame.corr of          LDA1      LDA2      LDA3  class\n",
       "0    1.843972 -0.518813  1.478109      3\n",
       "1    0.468808 -0.941814 -0.073448      2\n",
       "2   -1.787908  2.184318  0.451680      3\n",
       "3    1.455623  2.277692  0.230391      3\n",
       "4    0.863719 -0.610876  0.557740      2\n",
       "..        ...       ...       ...    ...\n",
       "143  0.625232  0.131561  0.165313      3\n",
       "144 -0.084137 -0.799438 -2.493050      2\n",
       "145  0.795903  1.081501  0.611330      3\n",
       "146  0.314154 -0.593463 -1.305343      2\n",
       "147  0.804630 -0.183542  0.170468      2\n",
       "\n",
       "[148 rows x 4 columns]>"
      ]
     },
     "execution_count": 32,
     "metadata": {},
     "output_type": "execute_result"
    }
   ],
   "source": [
    "dataset.corr"
   ]
  },
  {
   "cell_type": "code",
   "execution_count": 33,
   "metadata": {},
   "outputs": [
    {
     "data": {
      "image/png": "[encoded data removed]",
      "text/plain": [
       "<Figure size 1440x720 with 2 Axes>"
      ]
     },
     "metadata": {},
     "output_type": "display_data"
    }
   ],
   "source": [
    "sn.set(font_scale=1)\n",
    "sn.set_style(\"darkgrid\")\n",
    "fig_dims = (20, 10)\n",
    "fig, ax = plt.subplots(figsize=fig_dims)\n",
    "sn.heatmap(dataset.corr(),annot=True, ax=ax)\n",
    "plt.show()"
   ]
  },
  {
   "cell_type": "code",
   "execution_count": 35,
   "metadata": {},
   "outputs": [],
   "source": [
    "from sklearn.model_selection import train_test_split\n",
    "X_train, X_test, y_train, y_test = train_test_split(X, y, test_size = 0.3, random_state = 42)"
   ]
  },
  {
   "cell_type": "code",
   "execution_count": 36,
   "metadata": {},
   "outputs": [],
   "source": [
    "from sklearn.preprocessing import StandardScaler\n",
    "sc = StandardScaler()\n",
    "X_train = sc.fit_transform(X_train)\n",
    "X_test = sc.transform(X_test)"
   ]
  },
  {
   "cell_type": "code",
   "execution_count": 37,
   "metadata": {},
   "outputs": [],
   "source": [
    "from sklearn.neighbors import KNeighborsClassifier\n",
    "classifier_knn = KNeighborsClassifier(n_neighbors = 3, metric = 'euclidean')"
   ]
  },
  {
   "cell_type": "code",
   "execution_count": 38,
   "metadata": {
    "scrolled": false
   },
   "outputs": [
    {
     "data": {
      "text/plain": [
       "KNeighborsClassifier(metric='euclidean', n_neighbors=3)"
      ]
     },
     "execution_count": 38,
     "metadata": {},
     "output_type": "execute_result"
    }
   ],
   "source": [
    "classifier_knn.fit(X_train, y_train)"
   ]
  },
  {
   "cell_type": "code",
   "execution_count": 39,
   "metadata": {},
   "outputs": [],
   "source": [
    "y_pred_knn = classifier_knn.predict(X_test)"
   ]
  },
  {
   "cell_type": "code",
   "execution_count": 40,
   "metadata": {},
   "outputs": [
    {
     "name": "stdout",
     "output_type": "stream",
     "text": [
      "[[ 1  0  0  0]\n",
      " [ 0 22  1  0]\n",
      " [ 0  2 17  0]\n",
      " [ 0  0  0  2]]\n"
     ]
    }
   ],
   "source": [
    "from sklearn.metrics import confusion_matrix, classification_report\n",
    "cm_knn = confusion_matrix(y_test, y_pred_knn)\n",
    "print(cm_knn)\n"
   ]
  },
  {
   "cell_type": "code",
   "execution_count": 41,
   "metadata": {},
   "outputs": [],
   "source": [
    "from sklearn.metrics import accuracy_score, precision_score, recall_score, f1_score, matthews_corrcoef\n",
    "ac  = accuracy_score(y_test, y_pred_knn)\n",
    "pre = precision_score(y_test, y_pred_knn, average='weighted')\n",
    "re  = recall_score(y_test, y_pred_knn, average='weighted')\n",
    "f1  = f1_score(y_test, y_pred_knn, average='weighted')\n",
    "mc  = matthews_corrcoef(y_test, y_pred_knn)  "
   ]
  },
  {
   "cell_type": "code",
   "execution_count": 42,
   "metadata": {},
   "outputs": [
    {
     "name": "stdout",
     "output_type": "stream",
     "text": [
      "Akurasi    = 0.9333333333333333\n",
      "Precison    = 0.9339506172839505\n",
      "Recall      = 0.9333333333333333\n",
      "f1 score    = 0.9331416522905884\n",
      "MCC         = 0.8808975891549562\n"
     ]
    }
   ],
   "source": [
    "np.set_printoptions()\n",
    "print(\"Akurasi    =\", ac)\n",
    "print(\"Precison    =\",pre)\n",
    "print(\"Recall      =\", re)\n",
    "print(\"f1 score    =\", f1)\n",
    "print(\"MCC         =\", mc)"
   ]
  },
  {
   "cell_type": "code",
   "execution_count": 43,
   "metadata": {},
   "outputs": [
    {
     "data": {
      "image/png": "[encoded data removed]",
      "text/plain": [
       "<Figure size 720x432 with 2 Axes>"
      ]
     },
     "metadata": {},
     "output_type": "display_data"
    }
   ],
   "source": [
    "matrix = plot_confusion_matrix(classifier_knn, X_test, y_test, cmap=plt.cm.Reds)\n",
    "matrix.ax_.set_title('Confusion Matrix')\n",
    "plt.xlabel('Prediksi')\n",
    "plt.ylabel('Aktual')\n",
    "plt.gcf().axes[0].tick_params\n",
    "plt.gcf().axes[1].tick_params\n",
    "plt.gcf().set_size_inches(10,6)\n",
    "plt.show()"
   ]
  },
  {
   "cell_type": "code",
   "execution_count": 44,
   "metadata": {},
   "outputs": [],
   "source": [
    "error = []\n",
    "\n",
    "# Calculating error for K values between 1 and 40\n",
    "for i in range(1, 40):  \n",
    "    knn = KNeighborsClassifier(n_neighbors=i)\n",
    "    knn.fit(X_train, y_train)\n",
    "    pred_i = knn.predict(X_test)\n",
    "    error.append(np.mean(pred_i != y_test))"
   ]
  },
  {
   "cell_type": "code",
   "execution_count": 45,
   "metadata": {},
   "outputs": [
    {
     "data": {
      "text/plain": [
       "Text(0, 0.5, 'Error rata-rata')"
      ]
     },
     "execution_count": 45,
     "metadata": {},
     "output_type": "execute_result"
    },
    {
     "data": {
      "image/png": "[encoded data removed]",
      "text/plain": [
       "<Figure size 864x432 with 1 Axes>"
      ]
     },
     "metadata": {},
     "output_type": "display_data"
    }
   ],
   "source": [
    "plt.figure(figsize=(12, 6))  \n",
    "plt.plot(range(1, 40), error, color='red', linestyle='dashed', marker='o',  \n",
    "         markerfacecolor='blue', markersize=10)\n",
    "plt.title('Error Rate Nilai K')  \n",
    "plt.xlabel('Nilai K')  \n",
    "plt.ylabel('Error rata-rata')"
   ]
  },
  {
   "cell_type": "code",
   "execution_count": null,
   "metadata": {},
   "outputs": [],
   "source": []
  }
 ],
 "metadata": {
  "kernelspec": {
   "display_name": "Python 3",
   "language": "python",
   "name": "python3"
  },
  "language_info": {
   "codemirror_mode": {
    "name": "ipython",
    "version": 3
   },
   "file_extension": ".py",
   "mimetype": "text/x-python",
   "name": "python",
   "nbconvert_exporter": "python",
   "pygments_lexer": "ipython3",
   "version": "3.7.3"
  }
 },
 "nbformat": 4,
 "nbformat_minor": 4
}
